{
 "cells": [
  {
   "cell_type": "markdown",
   "metadata": {},
   "source": [
    "#### Q1. What are the three measures of central tendency?"
   ]
  },
  {
   "cell_type": "markdown",
   "metadata": {},
   "source": [
    "- The Three Measure Central Tendency are as follows-\n",
    "\n",
    "i) Mean: The Mean is refered as the average, is calculated by adding up all the value in a dataset and then dividing the sum by the number of values. It provides a measure of the \"typical\" value in a dataset.\n",
    "\n",
    "ii) Median: The median is the middle value in a dataset when the values are arranged in order.If there is an even number of values, the median is less affected by extreme outliers than the mean and can provide a better representation of the central value is skewed datasets.\n",
    "\n",
    "iii) Mode:The Mode is the value that appears most frequently in a dataset. A Datasets can have no mode(if all values are unique),one mode(if there is a value that occurs more frequently than any other), or multiple modes(if two or more value occur with the same highest frequency)."
   ]
  },
  {
   "cell_type": "markdown",
   "metadata": {},
   "source": [
    "#### Q2. What is the difference between the mean, median, and mode? How are they used to measure the central tendency of a dataset?"
   ]
  },
  {
   "cell_type": "markdown",
   "metadata": {},
   "source": [
    "- 1. Mean (Average):\n",
    "\n",
    "Calculation: The mean is calculated by summing up all the values in a dataset and then dividing by the number of values. It is represented as the sum of all values divided by the count of values.\n",
    "\n",
    "Use: The mean provides a measure of the \"average\" value in the dataset. It is sensitive to outliers and is particularly useful when the data is roughly symmetrically distributed.\n",
    "\n",
    "\n",
    "- 2. Median:\n",
    "\n",
    "Calculation: The median is the middle value in a dataset when the values are arranged in order from smallest to largest. If there is an even number of values, the median is the average of the two middle values.\n",
    "\n",
    "Use: The median is less affected by extreme outliers and is a good measure of central tendency for datasets with skewed distributions. It represents the value at the center of the data when ordered.\n",
    "\n",
    "\n",
    "- 3. Mode:\n",
    "\n",
    "Calculation: The mode is the value that appears most frequently in a dataset. A dataset can have no mode (if all values are unique), one mode (if there is a value that occurs more frequently than any other), or multiple modes (if two or more values occur with the same highest frequency).\n",
    "\n",
    "Use: The mode helps identify the most common value in a dataset. It is useful for categorical or discrete data and can provide insights into the most prevalent category or value."
   ]
  },
  {
   "cell_type": "markdown",
   "metadata": {},
   "source": [
    "## Q3. Measure the three measures of central tendency for the given height data:\n",
    "[178,177,176,177,178.2,178,175,179,180,175,178.9,176.2,177,172.5,178,176.5]"
   ]
  },
  {
   "cell_type": "markdown",
   "metadata": {},
   "source": [
    "[172.5, 175, 175, 176, 176, 176.2, 177, 177, 178, 178, 178, 178, 178.2, 178.9, 179, 180]\n",
    "\n",
    "\n",
    "- Mean (Average):\n",
    "Mean = (Sum of all values) / (Number of values)\n",
    "Mean = (172.5 + 175 + 175 + 176 + 176 + 176.2 + 177 + 177 + 178 + 178 + 178 + 178 + 178.2 + 178.9 + 179 + 180) / 16\n",
    "Mean ≈ 177.7625\n",
    "\n",
    "\n",
    "\n",
    "\n",
    "- Median:\n",
    "Since the data is already in ascending order, the median is the middle value. Since there are 16 data points (an even number), we'll take the average of the two middle values, which are the 8th and 9th values:\n",
    "Median = (177 + 178) / 2\n",
    "Median = 177.5\n",
    "\n",
    "- Mode:\n",
    "\n",
    "he mode is the value(s) that appear most frequently in the dataset. In this case, the value 178 occurs the most times (5 times), so it is the mode of the dataset.\n",
    "Mode = 178\n"
   ]
  },
  {
   "cell_type": "markdown",
   "metadata": {},
   "source": [
    "## Q4. Find the standard deviation for the given data:\n",
    "[178,177,176,177,178.2,178,175,179,180,175,178.9,176.2,177,172.5,178,176.5]"
   ]
  },
  {
   "cell_type": "markdown",
   "metadata": {},
   "source": [
    "[178,177,176,177,178.2,178,175,179,180,175,178.9,176.2,177,172.5,178,176.5]\n",
    "\n",
    "\n",
    "Step 1: calculating Mean\n",
    "\n",
    "Mean = (Sum of all values) / (Number of values)\n",
    "Mean = (178 + 177 + 176 + 177 + 178.2 + 178 + 175 + 179 + 180 + 175 + 178.9 + 176.2 + 177 + 172.5 + 178 + 176.5) / 16\n",
    "\n",
    "Mean = 177.01875 (Approx)\n",
    "\n",
    "\n",
    "Step 2: Finding the Squared difference from the mean for each data point:\n",
    "\n",
    "(177 - 177.58125)^2 ≈ 0.341063\n",
    "\n",
    "(176 - 177.58125)^2 ≈ 2.522891\n",
    "\n",
    "(177 - 177.58125)^2 ≈ 0.341063\n",
    "\n",
    "(178.2 - 177.58125)^2 ≈ 0.382752\n",
    "\n",
    "(178 - 177.58125)^2 ≈ 0.173668\n",
    "\n",
    "(175 - 177.58125)^2 ≈ 6.714387\n",
    "\n",
    "(179 - 177.58125)^2 ≈ 2.005893\n",
    "\n",
    "(180 - 177.58125)^2 ≈ 5.836823\n",
    "\n",
    "(175 - 177.58125)^2 ≈ 6.714387\n",
    "\n",
    "(178.9 - 177.58125)^2 ≈ 1.724542\n",
    "\n",
    "(176.2 - 177.58125)^2 ≈ 1.892281\n",
    "\n",
    "(177 - 177.58125)^2 ≈ 0.341063\n",
    "\n",
    "(172.5 - 177.58125)^2 ≈ 12.755157\n",
    "\n",
    "(178 - 177.58125)^2 ≈ 0.173668\n",
    "\n",
    "(176.5 - 177.58125)^2 ≈ 1.159133\n",
    "\n",
    "\n",
    "\n",
    "Calculate the mean of the squared differences:\n",
    "\n",
    "\n",
    "To find the standard deviation for the given data, you can follow these steps:\n",
    "\n",
    "Calculate the mean (average) of the data.\n",
    "Find the squared difference between each data point and the mean.\n",
    "Calculate the mean of the squared differences.\n",
    "Take the square root of the mean of squared differences to get the standard deviation.\n",
    "Let's calculate it:\n",
    "\n",
    "Step 1: Calculate the mean\n",
    "Mean (μ) = (Sum of all values) / (Number of values)\n",
    "Mean (μ) = (178 + 177 + 176 + 177 + 178.2 + 178 + 175 + 179 + 180 + 175 + 178.9 + 176.2 + 177 + 172.5 + 178 + 176.5) / 16\n",
    "Mean (μ) ≈ 177.58125\n",
    "\n",
    "Step 2: Find the squared differences from the mean for each data point:\n",
    "\n",
    "(178 - 177.58125)^2 ≈ 0.173668\n",
    "(177 - 177.58125)^2 ≈ 0.341063\n",
    "(176 - 177.58125)^2 ≈ 2.522891\n",
    "(177 - 177.58125)^2 ≈ 0.341063\n",
    "(178.2 - 177.58125)^2 ≈ 0.382752\n",
    "(178 - 177.58125)^2 ≈ 0.173668\n",
    "(175 - 177.58125)^2 ≈ 6.714387\n",
    "(179 - 177.58125)^2 ≈ 2.005893\n",
    "(180 - 177.58125)^2 ≈ 5.836823\n",
    "(175 - 177.58125)^2 ≈ 6.714387\n",
    "(178.9 - 177.58125)^2 ≈ 1.724542\n",
    "(176.2 - 177.58125)^2 ≈ 1.892281\n",
    "(177 - 177.58125)^2 ≈ 0.341063\n",
    "(172.5 - 177.58125)^2 ≈ 12.755157\n",
    "(178 - 177.58125)^2 ≈ 0.173668\n",
    "(176.5 - 177.58125)^2 ≈ 1.159133\n",
    "\n",
    "Step 3: Calculate the mean of the squared differences:\n",
    "\n",
    "Mean of squared differences = (Sum of squared differences) / (Number of values)\n",
    "\n",
    "\n",
    "Mean of squared differences = (Sum of squared differences) / (Number of values)\n",
    "Mean of squared differences ≈ (0.173668 + 0.341063 + 2.522891 + 0.341063 + 0.382752 + 0.173668 + 6.714387 + 2.005893 + 5.836823 + 6.714387 + 1.724542 + 1.892281 + 0.341063 + 12.755157 + 0.173668 + 1.159133) / 16\n",
    "\n",
    "\n",
    "\n",
    "Mean of squared differences = 3.19003875\n",
    "\n",
    "\n",
    "\n",
    "Step 4: Take the square root of the mean of squared differences to get the standard deviation:\n",
    "\n",
    "\n",
    "\n",
    "To find the standard deviation for the given data, you can follow these steps:\n",
    "\n",
    "Calculate the mean (average) of the data.\n",
    "Find the squared difference between each data point and the mean.\n",
    "Calculate the mean of the squared differences.\n",
    "Take the square root of the mean of squared differences to get the standard deviation.\n",
    "Let's calculate it:\n",
    "\n",
    "Step 1: Calculate the mean\n",
    "Mean (μ) = (Sum of all values) / (Number of values)\n",
    "Mean (μ) = (178 + 177 + 176 + 177 + 178.2 + 178 + 175 + 179 + 180 + 175 + 178.9 + 176.2 + 177 + 172.5 + 178 + 176.5) / 16\n",
    "Mean (μ) ≈ 177.58125\n",
    "\n",
    "Step 2: Find the squared differences from the mean for each data point:\n",
    "\n",
    "(178 - 177.58125)^2 ≈ 0.173668\n",
    "(177 - 177.58125)^2 ≈ 0.341063\n",
    "(176 - 177.58125)^2 ≈ 2.522891\n",
    "(177 - 177.58125)^2 ≈ 0.341063\n",
    "(178.2 - 177.58125)^2 ≈ 0.382752\n",
    "(178 - 177.58125)^2 ≈ 0.173668\n",
    "(175 - 177.58125)^2 ≈ 6.714387\n",
    "(179 - 177.58125)^2 ≈ 2.005893\n",
    "(180 - 177.58125)^2 ≈ 5.836823\n",
    "(175 - 177.58125)^2 ≈ 6.714387\n",
    "(178.9 - 177.58125)^2 ≈ 1.724542\n",
    "(176.2 - 177.58125)^2 ≈ 1.892281\n",
    "(177 - 177.58125)^2 ≈ 0.341063\n",
    "(172.5 - 177.58125)^2 ≈ 12.755157\n",
    "(178 - 177.58125)^2 ≈ 0.173668\n",
    "(176.5 - 177.58125)^2 ≈ 1.159133\n",
    "\n",
    "Step 3: Calculate the mean of the squared differences:\n",
    "\n",
    "Mean of squared differences = (Sum of squared differences) / (Number of values)\n",
    "Mean of squared differences ≈ (0.173668 + 0.341063 + 2.522891 + 0.341063 + 0.382752 + 0.173668 + 6.714387 + 2.005893 + 5.836823 + 6.714387 + 1.724542 + 1.892281 + 0.341063 + 12.755157 + 0.173668 + 1.159133) / 16\n",
    "Mean of squared differences ≈ 3.19003875\n",
    "\n",
    "Step 4: Take the square root of the mean of squared differences to get the standard deviation:\n",
    "\n",
    "Standard Deviation = √(Mean of squared differences)\n",
    "Standard Deviation = √(3.19003875)\n",
    "Standard Deviation = 1.78767134 (rounded to two decimal places)\n",
    "\n",
    "\n",
    "So, the standard deviation of the given data is approximately 1.79."
   ]
  },
  {
   "cell_type": "markdown",
   "metadata": {},
   "source": [
    "### Q5. How are measures of dispersion such as range, variance, and standard deviation used to describe the spread of a dataset? Provide an example."
   ]
  },
  {
   "cell_type": "markdown",
   "metadata": {},
   "source": [
    "- Measures of dispersion, including range, variance, and standard deviation, are used to describe the spread or variability of a dataset. They provide insight into how much the individual data points in a dataset differ from the central tendency measures (mean, median, or mode). Here's how each of these measures is used:\n",
    "\n",
    "- Range\n",
    "\n",
    "Range is the simplest measure of dispersion and is calculated as the difference between the maximum and minimum values in a dataset.\n",
    "\n",
    "Range = Maximum value - Minimum value\n",
    "\n",
    "It provides a rough estimate of how spread out the data is but doesn't consider the distribution of values in between.\n",
    "\n",
    "\n",
    "- Variance:\n",
    "\n",
    "Variance measures the average of the squared differences between each data point and the mean of the dataset.\n",
    "\n",
    "A higher variance indicates greater variability or spread in the data, while a lower variance suggests data points are closer to the mean.\n",
    "\n",
    "Variance = (Sum of (each data point - mean)^2) / (Number of data points)\n",
    "\n",
    "It provides a more detailed measure of spread than the range.\n",
    "\n",
    "\n",
    "\n",
    "- Standard Deviation:\n",
    "\n",
    "Standard deviation is the square root of the variance. It measures the average deviation of data points from the mean in the same units as the data.\n",
    "\n",
    "\n",
    "A higher standard deviation indicates greater variability, while a lower standard deviation suggests that data points are closer to the mean.\n",
    "\n",
    "\n",
    "Standard Deviation (σ) = √(Variance)"
   ]
  },
  {
   "cell_type": "code",
   "execution_count": 14,
   "metadata": {},
   "outputs": [
    {
     "name": "stdout",
     "output_type": "stream",
     "text": [
      "It is the Example of range:  13\n",
      "It is the Variance:  27.5\n",
      "It is the Standard Deviation:  5.244044240850758\n"
     ]
    }
   ],
   "source": [
    "import statistics\n",
    "\n",
    "data = [85, 88, 92, 79, 91]\n",
    "\n",
    "data_range = max(data) - min(data)\n",
    "\n",
    "data_variance = statistics.variance(data)\n",
    "\n",
    "data_std_dev = statistics.stdev(data)\n",
    "\n",
    "\n",
    "\n",
    "print(\"It is the Example of range: \",data_range)\n",
    "\n",
    "print(\"It is the Variance: \", data_variance)\n",
    "\n",
    "print(\"It is the Standard Deviation: \", data_std_dev)"
   ]
  },
  {
   "cell_type": "markdown",
   "metadata": {},
   "source": [
    "#### Q6. What is a Venn diagram?\n",
    "\n",
    "\n",
    "\n",
    "\n",
    "- Ans: A Venn diagram is a visual representation of the relationships between different sets or groups of items. It is named after the British logician and philosopher John Venn, who introduced this method of illustration in the late 19th century. Venn diagrams use overlapping circles or other shapes to show the extent to which sets share common elements or characteristics."
   ]
  },
  {
   "cell_type": "markdown",
   "metadata": {},
   "source": [
    "#### Q7. For the two given sets A = (2,3,4,5,6,7) & B = (0,2,6,8,10). Find:\n",
    "(i) A B\n",
    "(ii) A ⋃ B|\n",
    "\n",
    "- Ans :\n",
    "\n",
    "\n",
    "\n",
    "- (i) A ∩ B (Intersection):\n",
    "The intersection of two sets contains elements that are common to both sets.\n",
    "\n",
    "A ∩ B = {x | x ∈ A and x ∈ B}\n",
    "\n",
    "So in this case  A ∩ B = {2,6}\n",
    "\n",
    "\n",
    "- (ii) A ∪ B (Union):\n",
    "\n",
    "The union of two sets contains all distinct elements from both sets.\n",
    "\n",
    "A ∪ B = {x | x ∈ A or x ∈ B}\n",
    "\n",
    "So, for this answer is:\n",
    "\n",
    "A ∪ B = {0,2,3,4,5,6,7,8,10}"
   ]
  },
  {
   "cell_type": "code",
   "execution_count": 18,
   "metadata": {},
   "outputs": [
    {
     "name": "stdout",
     "output_type": "stream",
     "text": [
      "(i) A ∩ B(Intersection): {2, 6}\n",
      "(ii) A ∪ B(Union): {0, 2, 3, 4, 5, 6, 7, 8, 10}\n"
     ]
    }
   ],
   "source": [
    "A = {2, 3, 4, 5, 6, 7}\n",
    "B = {0, 2, 6, 8, 10}\n",
    "\n",
    "intersection = A.intersection(B)\n",
    "\n",
    "union  = A.union(B)\n",
    "\n",
    "\n",
    "print(\"(i) A ∩ B(Intersection):\", intersection)\n",
    "print(\"(ii) A ∪ B(Union):\", union)"
   ]
  },
  {
   "cell_type": "markdown",
   "metadata": {},
   "source": [
    "#### Q8. What do you understand about skewness in data? \n",
    "\n",
    "- Ans: \n",
    "\n",
    "Skewness in data is a statistical measure that describes the asymmetry or lack of symmetry in the distribution of data. It indicates whether the data is skewed to the left (negatively skewed), skewed to the right (positively skewed), or approximately symmetric (no skew). Skewness is an essential concept in statistics and data analysis, and it helps in understanding the shape of a distribution."
   ]
  },
  {
   "cell_type": "markdown",
   "metadata": {},
   "source": [
    "#### Q9. If a data is right skewed then what will be the position of median with respect to mean?\n",
    "\n",
    "\n",
    "\n",
    "- Ans :\n",
    "\n",
    "If a dataset is right-skewed (positively skewed), the position of the median with respect to the mean will typically be to the left of the mean. In other words, the median will be smaller than the mean."
   ]
  },
  {
   "cell_type": "markdown",
   "metadata": {},
   "source": [
    "#### Q10. Explain the difference between covariance and correlation. How are these measures used in statistical analysis?"
   ]
  },
  {
   "cell_type": "markdown",
   "metadata": {},
   "source": [
    "- #### Covariance\n",
    "\n",
    "- Covariance measures the degree to which two variables change together. It indicates whether an increase in one variable corresponds to an increase, decrease, or no change in another variable.\n",
    "\n",
    "- The formula for the covariance between two variables X and Y is:\n",
    "Cov(X, Y) = Σ [(Xᵢ - X̄) * (Yᵢ - Ȳ)] / (n - 1)\n",
    "where Xᵢ and Yᵢ are individual data points, X̄ and Ȳ are the means of X and Y, and n is the number of data points.\n",
    "\n",
    "\n",
    "- The sign of covariance (positive, negative, or zero) indicates the direction of the relationship:\n",
    "     \n",
    "     - Positive covariance: Both variables tend to increase or decrease together.\n",
    "     - Negative covariance: One variable tends to increase as the other decreases.\n",
    "     - Zero covariance: There is no systematic relationship between the variables.\n",
    "\n",
    "\n",
    "\n",
    "- #### Correlation:\n",
    "\n",
    "\n",
    "\n",
    "Correlation is a standardized measure that quantifies the strength and direction of the linear relationship between two variables. It provides a value between -1 and 1, where:\n",
    "\n",
    "- Correlation coefficient (r) = 1 indicates a perfect positive linear relationship.\n",
    "\n",
    "- Correlation coefficient (r) = -1 indicates a perfect negative linear relationship.\n",
    "\n",
    "- Correlation coefficient (r) = 0 indicates no linear relationship.\n",
    "\n",
    "\n",
    "- The most commonly used correlation coefficient is the Pearson correlation coefficient (Pearson's r).\n",
    "\n",
    "- Correlation standardizes the covariance by dividing it by the product of the standard deviations of the two variables, which makes it unitless.\n",
    "\n"
   ]
  },
  {
   "cell_type": "markdown",
   "metadata": {},
   "source": [
    "## Q11. What is the formula for calculating the sample mean? Provide an example calculation for a dataset."
   ]
  },
  {
   "cell_type": "markdown",
   "metadata": {},
   "source": [
    "- The formula for calculating the sample mean (often denoted as \"x̄\") is as follows:\n",
    "\n",
    "- Sample Mean (x̄) = (Sum of all data points) / (Number of data points)\n",
    "\n",
    "\n",
    "\n",
    "- Suppose you have the following dataset representing the test scores of 5 students: [85, 92, 78, 90, 88].\n",
    "\n",
    "- Sum = 85 + 92 + 78 + 90 + 88 = 433\n",
    "\n",
    "  - Determine the number of data points, which is 5 in this case.\n",
    "\n",
    "  - Sample Mean (x̄) = Sum / Number of data points\n",
    "\n",
    "\n",
    "- Sample Mean (x̄) = 433 / 5 = 86.6\n"
   ]
  },
  {
   "cell_type": "markdown",
   "metadata": {},
   "source": [
    "### Q12. For a normal distribution data what is the relationship between its measure of central tendency?"
   ]
  },
  {
   "cell_type": "markdown",
   "metadata": {},
   "source": [
    "- ##### In a normal distribution (also known as a Gaussian distribution), there is a specific relationship between its measures of central tendency, which are the mean, median, and mode. This relationship is a key characteristic of the normal distribution and can be summarized as follows:\n",
    "\n",
    "\n",
    "\n",
    "- Mean (Average): In a normal distribution, the mean (μ) is located at the center of the distribution. The mean is equal to the median, and it also coincides with the highest point on the probability density curve. In other words, the peak of the normal distribution curve is directly above the mean. This is why a normal distribution is often referred to as a \"bell curve.\"\n",
    "\n",
    "\n",
    "- Median: As mentioned above, in a normal distribution, the median is equal to the mean. The median is also the point where the distribution is symmetrically divided into two equal halves. This means that half of the data points fall to the left of the median, and half fall to the right.\n",
    "\n",
    "\n",
    "- Mode: The mode of a normal distribution is also located at the mean. In a perfectly symmetrical normal distribution, there is only one mode, which is at the mean. This is because the normal distribution has a single, well-defined peak.\n",
    "\n",
    "\n",
    "- So, for a normal distribution:\n",
    "\n",
    "The mean (μ) is equal to the median.\n",
    "The mode is also at the mean.\n",
    "\n",
    "\n",
    "\n",
    "- These relationships between the measures of central tendency are what make the normal distribution a special and highly predictable statistical distribution, as they indicate a high degree of symmetry and central concentration of data.\n"
   ]
  },
  {
   "cell_type": "markdown",
   "metadata": {},
   "source": [
    "### Q13. How is covariance different from correlation?"
   ]
  },
  {
   "cell_type": "markdown",
   "metadata": {},
   "source": [
    "- ##### Covariance and correlation are both measures used in statistics to describe the relationship between two variables, but they differ in several important ways:\n",
    "\n",
    "\n",
    "\n",
    "\n",
    "  - I) Nature and Units:\n",
    "\n",
    "- Covariance: Covariance is a measure of the degree to which two variables change together. It's a raw measure that isn't standardized, so its value is in the units of the product of the two variables. As a result, it can be challenging to interpret and compare, especially when dealing with variables that have different units of measurement.\n",
    "\n",
    "\n",
    "- Correlation: Correlation is a standardized measure that quantifies the strength and direction of the linear relationship between two variables. It provides a value between -1 and 1, where -1 indicates a perfect negative linear relationship, 1 indicates a perfect positive linear relationship, and 0 indicates no linear relationship\n",
    "\n",
    "\n",
    "\n",
    "- Scale:\n",
    "\n",
    "- Covariance: The scale of covariance is dependent on the scale of the data. This makes it difficult to compare covariances across different datasets or variables.\n",
    "\n",
    "- Correlation: Correlation scales the covariance by dividing it by the product of the standard deviations of the two variables. This standardization allows for comparisons between different sets of data or variables, making correlation more useful for statistical analysis.\n",
    "\n",
    "\n",
    "\n",
    "\n",
    "- Interpretation:\n",
    "\n",
    "- Covariance: The value of covariance is not directly interpretable, and its sign (positive or negative) only indicates the direction of the relationship, not the strength.\n",
    "\n",
    "- Correlation: The value of correlation is directly interpretable. The magnitude (absolute value) of the correlation coefficient indicates the strength of the relationship, while the sign indicates the direction. A correlation coefficient of 0 means no linear relationship, a coefficient of 1 or -1 indicates a perfect linear relationship, and values between 0 and 1 or -1 indicate varying degrees of linear association.\n",
    "\n",
    "\n",
    "\n",
    "- Range:\n",
    "\n",
    "- Covariance: Covariance can range from negative infinity to positive infinity, depending on the data. It lacks a fixed range.\n",
    "\n",
    "- Correlation: Correlation always ranges between -1 and 1, providing a consistent and bounded scale"
   ]
  },
  {
   "cell_type": "markdown",
   "metadata": {},
   "source": [
    "### Q14. How do outliers affect measures of central tendency and dispersion? Provide an example."
   ]
  },
  {
   "cell_type": "markdown",
   "metadata": {},
   "source": [
    "- Outliers can greatly impact measures of central tendency:\n",
    "\n",
    "     - The mean is sensitive and influenced by extreme values.\n",
    "\n",
    "     - The median is resistant and less affected by outliers.\n",
    "\n",
    "     - The mode is typically not affected by outliers.\n",
    "\n",
    "- Outliers can also affect measures of dispersion:\n",
    "\n",
    "     - The range can be distorted, extending toward the outlier.\n",
    "\n",
    "     - Variance and standard deviation can be inflated due to large squared differences with the mean."
   ]
  },
  {
   "cell_type": "markdown",
   "metadata": {},
   "source": [
    "- Here's an example to illustrate the impact of outliers:\n",
    "\n",
    "Consider a dataset of exam scores for a class:\n",
    "\n",
    "[75, 80, 82, 84, 86, 88, 90, 95, 97, 250]\n",
    "\n",
    "\n",
    "- Mean: Without the outlier (250), the mean is 88.2. With the outlier, the mean jumps to 119.1, significantly affected by the extreme value.\n",
    "\n",
    " - Median: The median remains the same whether the outlier is present or not, and it's 88.\n",
    "\n",
    "- Range: Without the outlier, the range is 25 (95 - 70). With the outlier, the range increases to 175 (250 - 75).\n",
    "\n",
    "- Variance and Standard Deviation: Without the outlier, the variance is 102.6 and the standard deviation is approximately 10.13. With the outlier, the variance increases to 5884.4, and the standard deviation becomes about 76.75.\n",
    "\n"
   ]
  },
  {
   "cell_type": "markdown",
   "metadata": {},
   "source": [
    "- This example highlights how an outlier can distort measures of central tendency and dispersion. Therefore, it's important to be aware of the presence of outliers in your data and consider their potential impact on your analysis. Depending on the context and the nature of the outliers, you may choose to address them, analyze the data both with and without them, or use more robust statistics when dealing with skewed or outlier-prone datasets."
   ]
  }
 ],
 "metadata": {
  "kernelspec": {
   "display_name": "Python 3",
   "language": "python",
   "name": "python3"
  },
  "language_info": {
   "codemirror_mode": {
    "name": "ipython",
    "version": 3
   },
   "file_extension": ".py",
   "mimetype": "text/x-python",
   "name": "python",
   "nbconvert_exporter": "python",
   "pygments_lexer": "ipython3",
   "version": "3.11.5"
  }
 },
 "nbformat": 4,
 "nbformat_minor": 2
}
